{
 "cells": [
  {
   "cell_type": "code",
   "execution_count": null,
   "id": "99c640b6-7859-4961-a710-864d628b856f",
   "metadata": {},
   "outputs": [],
   "source": [
    "!pip install roboflow"
   ]
  },
  {
   "cell_type": "code",
   "execution_count": null,
   "id": "56d940f3-3739-4905-a9e3-b3c829cee2f5",
   "metadata": {},
   "outputs": [],
   "source": [
    "import os\n",
    "from roboflow import Roboflow\n",
    "from ultralytics import YOLO"
   ]
  },
  {
   "cell_type": "code",
   "execution_count": null,
   "id": "2f04c9ae-decf-49d3-b8a8-82c536cfac7b",
   "metadata": {},
   "outputs": [],
   "source": [
    "rf = Roboflow(api_key=\"NLlKNASkp2kktzo67n8c\")\n",
    "project = rf.workspace(\"purdue-university-niruh\").project(\"precision-ag-subterranean\")\n",
    "version = project.version(6)\n",
    "dataset = version.download(\"yolov8\")"
   ]
  },
  {
   "cell_type": "code",
   "execution_count": null,
   "id": "1f491b6e-1cfe-4d40-b4f2-7dd21786bec2",
   "metadata": {},
   "outputs": [],
   "source": [
    "model = YOLO('yolov8n.pt')"
   ]
  },
  {
   "cell_type": "code",
   "execution_count": null,
   "id": "9cad701f-e540-4e53-9490-f452ed309286",
   "metadata": {},
   "outputs": [],
   "source": [
    "dataset_path = dataset.location"
   ]
  },
  {
   "cell_type": "code",
   "execution_count": null,
   "id": "9e35a431-3e4b-439e-a9f2-7fa2dd286682",
   "metadata": {},
   "outputs": [],
   "source": [
    "resuls = model.train(data=os.path.join(dataset_path, 'data.yaml'), epochs=200, imgsz=640)"
   ]
  }
 ],
 "metadata": {
  "kernelspec": {
   "display_name": "Python 3 (ipykernel)",
   "language": "python",
   "name": "python3"
  },
  "language_info": {
   "codemirror_mode": {
    "name": "ipython",
    "version": 3
   },
   "file_extension": ".py",
   "mimetype": "text/x-python",
   "name": "python",
   "nbconvert_exporter": "python",
   "pygments_lexer": "ipython3",
   "version": "3.12.0"
  }
 },
 "nbformat": 4,
 "nbformat_minor": 5
}
